{
 "cells": [
  {
   "cell_type": "markdown",
   "id": "9b192217",
   "metadata": {},
   "source": [
    "# 6/3"
   ]
  },
  {
   "cell_type": "code",
   "execution_count": 2,
   "id": "6eb94c96",
   "metadata": {},
   "outputs": [],
   "source": [
    "#Basic Python"
   ]
  },
  {
   "cell_type": "code",
   "execution_count": 3,
   "id": "676d06bc",
   "metadata": {},
   "outputs": [
    {
     "data": {
      "text/plain": [
       "10"
      ]
     },
     "execution_count": 3,
     "metadata": {},
     "output_type": "execute_result"
    }
   ],
   "source": [
    "#variable\n",
    "10"
   ]
  },
  {
   "cell_type": "code",
   "execution_count": 4,
   "id": "af433191",
   "metadata": {},
   "outputs": [],
   "source": [
    "a = 10"
   ]
  },
  {
   "cell_type": "code",
   "execution_count": 5,
   "id": "d5b2ebd7",
   "metadata": {},
   "outputs": [
    {
     "data": {
      "text/plain": [
       "1864717658704"
      ]
     },
     "execution_count": 5,
     "metadata": {},
     "output_type": "execute_result"
    }
   ],
   "source": [
    "id(a)"
   ]
  },
  {
   "cell_type": "code",
   "execution_count": 6,
   "id": "eb1bfa46",
   "metadata": {},
   "outputs": [
    {
     "data": {
      "text/plain": [
       "10"
      ]
     },
     "execution_count": 6,
     "metadata": {},
     "output_type": "execute_result"
    }
   ],
   "source": [
    "a"
   ]
  },
  {
   "cell_type": "code",
   "execution_count": 11,
   "id": "76304f1e",
   "metadata": {},
   "outputs": [
    {
     "data": {
      "text/plain": [
       "20"
      ]
     },
     "execution_count": 11,
     "metadata": {},
     "output_type": "execute_result"
    }
   ],
   "source": [
    "a+10"
   ]
  },
  {
   "cell_type": "markdown",
   "id": "d4be7b5d",
   "metadata": {},
   "source": [
    "# Data type in python\n",
    "1)Integer\n",
    "2)Float\n",
    "3)String\n",
    "4)Boolean"
   ]
  },
  {
   "cell_type": "code",
   "execution_count": 13,
   "id": "70cd6da4",
   "metadata": {},
   "outputs": [
    {
     "data": {
      "text/plain": [
       "int"
      ]
     },
     "execution_count": 13,
     "metadata": {},
     "output_type": "execute_result"
    }
   ],
   "source": [
    "#Integer\n",
    "a = 100\n",
    "type(a)"
   ]
  },
  {
   "cell_type": "code",
   "execution_count": 14,
   "id": "e9acbff7",
   "metadata": {},
   "outputs": [
    {
     "data": {
      "text/plain": [
       "float"
      ]
     },
     "execution_count": 14,
     "metadata": {},
     "output_type": "execute_result"
    }
   ],
   "source": [
    "type(10.2)"
   ]
  },
  {
   "cell_type": "code",
   "execution_count": 15,
   "id": "673eaba5",
   "metadata": {},
   "outputs": [],
   "source": [
    "s = 'This is python'\n",
    "s1 = \"This is python\"\n",
    "s2 = '''This is python'''"
   ]
  },
  {
   "cell_type": "code",
   "execution_count": 16,
   "id": "e6a0b2b2",
   "metadata": {},
   "outputs": [
    {
     "data": {
      "text/plain": [
       "True"
      ]
     },
     "execution_count": 16,
     "metadata": {},
     "output_type": "execute_result"
    }
   ],
   "source": [
    "s==s1"
   ]
  },
  {
   "cell_type": "code",
   "execution_count": 17,
   "id": "f844fe7e",
   "metadata": {},
   "outputs": [
    {
     "data": {
      "text/plain": [
       "str"
      ]
     },
     "execution_count": 17,
     "metadata": {},
     "output_type": "execute_result"
    }
   ],
   "source": [
    "type(s2)"
   ]
  },
  {
   "cell_type": "code",
   "execution_count": 20,
   "id": "58317343",
   "metadata": {},
   "outputs": [],
   "source": [
    "s = \"it's a laptop\""
   ]
  },
  {
   "cell_type": "code",
   "execution_count": 21,
   "id": "02b2c027",
   "metadata": {},
   "outputs": [
    {
     "data": {
      "text/plain": [
       "bool"
      ]
     },
     "execution_count": 21,
     "metadata": {},
     "output_type": "execute_result"
    }
   ],
   "source": [
    "b = True\n",
    "type(b)"
   ]
  },
  {
   "cell_type": "code",
   "execution_count": null,
   "id": "1a24c489",
   "metadata": {},
   "outputs": [],
   "source": []
  },
  {
   "cell_type": "markdown",
   "id": "609a9f07",
   "metadata": {},
   "source": [
    "# Typecasting"
   ]
  },
  {
   "cell_type": "code",
   "execution_count": 22,
   "id": "3d9c7860",
   "metadata": {},
   "outputs": [
    {
     "data": {
      "text/plain": [
       "int"
      ]
     },
     "execution_count": 22,
     "metadata": {},
     "output_type": "execute_result"
    }
   ],
   "source": [
    "a=100\n",
    "type(a)"
   ]
  },
  {
   "cell_type": "code",
   "execution_count": 23,
   "id": "c8e4e46a",
   "metadata": {},
   "outputs": [
    {
     "data": {
      "text/plain": [
       "100.0"
      ]
     },
     "execution_count": 23,
     "metadata": {},
     "output_type": "execute_result"
    }
   ],
   "source": [
    "float(a)"
   ]
  },
  {
   "cell_type": "code",
   "execution_count": 24,
   "id": "c8b40a18",
   "metadata": {},
   "outputs": [
    {
     "data": {
      "text/plain": [
       "'100'"
      ]
     },
     "execution_count": 24,
     "metadata": {},
     "output_type": "execute_result"
    }
   ],
   "source": [
    "str(a)"
   ]
  },
  {
   "cell_type": "code",
   "execution_count": 25,
   "id": "893a03f8",
   "metadata": {},
   "outputs": [
    {
     "data": {
      "text/plain": [
       "True"
      ]
     },
     "execution_count": 25,
     "metadata": {},
     "output_type": "execute_result"
    }
   ],
   "source": [
    "x= 10\n",
    "bool(x)"
   ]
  },
  {
   "cell_type": "code",
   "execution_count": 26,
   "id": "9f2c2739",
   "metadata": {},
   "outputs": [
    {
     "data": {
      "text/plain": [
       "False"
      ]
     },
     "execution_count": 26,
     "metadata": {},
     "output_type": "execute_result"
    }
   ],
   "source": [
    "y = 0\n",
    "bool(y)"
   ]
  },
  {
   "cell_type": "markdown",
   "id": "fe09284e",
   "metadata": {},
   "source": [
    "# String Method"
   ]
  },
  {
   "cell_type": "code",
   "execution_count": 27,
   "id": "542e16c3",
   "metadata": {},
   "outputs": [],
   "source": [
    "s = 'learning python'"
   ]
  },
  {
   "cell_type": "code",
   "execution_count": 29,
   "id": "6e97658a",
   "metadata": {},
   "outputs": [
    {
     "data": {
      "text/plain": [
       "'Learning python'"
      ]
     },
     "execution_count": 29,
     "metadata": {},
     "output_type": "execute_result"
    }
   ],
   "source": [
    "s.capitalize()"
   ]
  },
  {
   "cell_type": "code",
   "execution_count": 28,
   "id": "d0775b5c",
   "metadata": {},
   "outputs": [
    {
     "data": {
      "text/plain": [
       "100"
      ]
     },
     "execution_count": 28,
     "metadata": {},
     "output_type": "execute_result"
    }
   ],
   "source": [
    "a"
   ]
  },
  {
   "cell_type": "code",
   "execution_count": 30,
   "id": "89ce8fcc",
   "metadata": {},
   "outputs": [],
   "source": [
    "#join function"
   ]
  },
  {
   "cell_type": "code",
   "execution_count": 32,
   "id": "7c37817b",
   "metadata": {},
   "outputs": [
    {
     "data": {
      "text/plain": [
       "'l-e-a-r-n-i-n-g- -p-y-t-h-o-n'"
      ]
     },
     "execution_count": 32,
     "metadata": {},
     "output_type": "execute_result"
    }
   ],
   "source": [
    "'-'.join(s)"
   ]
  },
  {
   "cell_type": "code",
   "execution_count": 33,
   "id": "f73426f4",
   "metadata": {},
   "outputs": [],
   "source": [
    "para = '''I am a passionate data professional in Microsoft Excel, Power BI, Tableau, MySQL and Python libraries such as Numpy, Pandas and MatPlotLib. I am increasing and upgrading my skills to become a Data Analyst. As an aspiring data analyst, I am constantly seeking to enhance my knowledge of emerging trends in data analytics.'''"
   ]
  },
  {
   "cell_type": "code",
   "execution_count": 34,
   "id": "26e1778c",
   "metadata": {},
   "outputs": [
    {
     "data": {
      "text/plain": [
       "'I- -a-m- -a- -p-a-s-s-i-o-n-a-t-e- -d-a-t-a- -p-r-o-f-e-s-s-i-o-n-a-l- -i-n- -M-i-c-r-o-s-o-f-t- -E-x-c-e-l-,- -P-o-w-e-r- -B-I-,- -T-a-b-l-e-a-u-,- -M-y-S-Q-L- -a-n-d- -P-y-t-h-o-n- -l-i-b-r-a-r-i-e-s- -s-u-c-h- -a-s- -N-u-m-p-y-,- -P-a-n-d-a-s- -a-n-d- -M-a-t-P-l-o-t-L-i-b-.- -I- -a-m- -i-n-c-r-e-a-s-i-n-g- -a-n-d- -u-p-g-r-a-d-i-n-g- -m-y- -s-k-i-l-l-s- -t-o- -b-e-c-o-m-e- -a- -D-a-t-a- -A-n-a-l-y-s-t-.- -A-s- -a-n- -a-s-p-i-r-i-n-g- -d-a-t-a- -a-n-a-l-y-s-t-,- -I- -a-m- -c-o-n-s-t-a-n-t-l-y- -s-e-e-k-i-n-g- -t-o- -e-n-h-a-n-c-e- -m-y- -k-n-o-w-l-e-d-g-e- -o-f- -e-m-e-r-g-i-n-g- -t-r-e-n-d-s- -i-n- -d-a-t-a- -a-n-a-l-y-t-i-c-s-.'"
      ]
     },
     "execution_count": 34,
     "metadata": {},
     "output_type": "execute_result"
    }
   ],
   "source": [
    "'-'.join(para)"
   ]
  },
  {
   "cell_type": "code",
   "execution_count": 35,
   "id": "f608b7b6",
   "metadata": {},
   "outputs": [],
   "source": [
    "#index"
   ]
  },
  {
   "cell_type": "code",
   "execution_count": 41,
   "id": "3c0db249",
   "metadata": {},
   "outputs": [
    {
     "data": {
      "text/plain": [
       "'learning python'"
      ]
     },
     "execution_count": 41,
     "metadata": {},
     "output_type": "execute_result"
    }
   ],
   "source": [
    "s"
   ]
  },
  {
   "cell_type": "code",
   "execution_count": null,
   "id": "cedf463a",
   "metadata": {},
   "outputs": [],
   "source": []
  },
  {
   "cell_type": "code",
   "execution_count": 42,
   "id": "e3792a0a",
   "metadata": {},
   "outputs": [],
   "source": [
    "#Srarwith"
   ]
  },
  {
   "cell_type": "code",
   "execution_count": 44,
   "id": "e187afca",
   "metadata": {},
   "outputs": [
    {
     "data": {
      "text/plain": [
       "False"
      ]
     },
     "execution_count": 44,
     "metadata": {},
     "output_type": "execute_result"
    }
   ],
   "source": [
    "s.startswith('A')"
   ]
  },
  {
   "cell_type": "code",
   "execution_count": 45,
   "id": "a8b10166",
   "metadata": {},
   "outputs": [],
   "source": [
    "#Replace"
   ]
  },
  {
   "cell_type": "code",
   "execution_count": 46,
   "id": "6380f0ba",
   "metadata": {},
   "outputs": [
    {
     "data": {
      "text/plain": [
       "'learning python'"
      ]
     },
     "execution_count": 46,
     "metadata": {},
     "output_type": "execute_result"
    }
   ],
   "source": [
    "s"
   ]
  },
  {
   "cell_type": "code",
   "execution_count": 49,
   "id": "d1e2110c",
   "metadata": {},
   "outputs": [],
   "source": [
    "s= s.replace('python','excel')"
   ]
  },
  {
   "cell_type": "code",
   "execution_count": 50,
   "id": "ef5e9264",
   "metadata": {},
   "outputs": [
    {
     "data": {
      "text/plain": [
       "'learning excel'"
      ]
     },
     "execution_count": 50,
     "metadata": {},
     "output_type": "execute_result"
    }
   ],
   "source": [
    "s"
   ]
  },
  {
   "cell_type": "code",
   "execution_count": 51,
   "id": "e6916db1",
   "metadata": {},
   "outputs": [],
   "source": [
    "#split"
   ]
  },
  {
   "cell_type": "code",
   "execution_count": 52,
   "id": "158bb98b",
   "metadata": {},
   "outputs": [
    {
     "data": {
      "text/plain": [
       "'learning excel'"
      ]
     },
     "execution_count": 52,
     "metadata": {},
     "output_type": "execute_result"
    }
   ],
   "source": [
    "s"
   ]
  },
  {
   "cell_type": "code",
   "execution_count": 54,
   "id": "26f74fb4",
   "metadata": {},
   "outputs": [
    {
     "data": {
      "text/plain": [
       "['learning', 'excel']"
      ]
     },
     "execution_count": 54,
     "metadata": {},
     "output_type": "execute_result"
    }
   ],
   "source": [
    "s.split(' ')"
   ]
  },
  {
   "cell_type": "code",
   "execution_count": 55,
   "id": "116802a4",
   "metadata": {},
   "outputs": [],
   "source": [
    "s = \"Lap,mob,tab,car,book\""
   ]
  },
  {
   "cell_type": "code",
   "execution_count": 58,
   "id": "6bf31acf",
   "metadata": {},
   "outputs": [
    {
     "data": {
      "text/plain": [
       "['Lap', 'mob', 'tab', 'car', 'book']"
      ]
     },
     "execution_count": 58,
     "metadata": {},
     "output_type": "execute_result"
    }
   ],
   "source": [
    "s.split(',')"
   ]
  },
  {
   "cell_type": "code",
   "execution_count": 59,
   "id": "21978a0f",
   "metadata": {},
   "outputs": [],
   "source": [
    "#swapcase"
   ]
  },
  {
   "cell_type": "code",
   "execution_count": 60,
   "id": "ec3aa602",
   "metadata": {},
   "outputs": [
    {
     "data": {
      "text/plain": [
       "'lAP,MOB,TAB,CAR,BOOK'"
      ]
     },
     "execution_count": 60,
     "metadata": {},
     "output_type": "execute_result"
    }
   ],
   "source": [
    "s.swapcase()"
   ]
  },
  {
   "cell_type": "code",
   "execution_count": 61,
   "id": "bd638e87",
   "metadata": {},
   "outputs": [],
   "source": [
    "#upper"
   ]
  },
  {
   "cell_type": "code",
   "execution_count": 62,
   "id": "34281fe1",
   "metadata": {},
   "outputs": [
    {
     "data": {
      "text/plain": [
       "'LAP,MOB,TAB,CAR,BOOK'"
      ]
     },
     "execution_count": 62,
     "metadata": {},
     "output_type": "execute_result"
    }
   ],
   "source": [
    "s.upper()"
   ]
  },
  {
   "cell_type": "code",
   "execution_count": 63,
   "id": "566eb6fe",
   "metadata": {},
   "outputs": [],
   "source": [
    "#lower"
   ]
  },
  {
   "cell_type": "code",
   "execution_count": 64,
   "id": "3a594e98",
   "metadata": {},
   "outputs": [
    {
     "data": {
      "text/plain": [
       "'lap,mob,tab,car,book'"
      ]
     },
     "execution_count": 64,
     "metadata": {},
     "output_type": "execute_result"
    }
   ],
   "source": [
    "s.lower()"
   ]
  },
  {
   "cell_type": "code",
   "execution_count": 65,
   "id": "a82bed1e",
   "metadata": {},
   "outputs": [],
   "source": [
    "#titl"
   ]
  },
  {
   "cell_type": "code",
   "execution_count": 66,
   "id": "118b87ee",
   "metadata": {},
   "outputs": [
    {
     "data": {
      "text/plain": [
       "'Lap,Mob,Tab,Car,Book'"
      ]
     },
     "execution_count": 66,
     "metadata": {},
     "output_type": "execute_result"
    }
   ],
   "source": [
    "s.title()"
   ]
  },
  {
   "cell_type": "markdown",
   "id": "601bce71",
   "metadata": {},
   "source": [
    "# Data Structures"
   ]
  },
  {
   "cell_type": "markdown",
   "id": "43a99e09",
   "metadata": {},
   "source": [
    "#1.Lists\n",
    "#2.tupple\n",
    "#3.Dictionary\n",
    "#4.sets"
   ]
  },
  {
   "cell_type": "markdown",
   "id": "a8fb272a",
   "metadata": {},
   "source": [
    "# Creating lists"
   ]
  },
  {
   "cell_type": "code",
   "execution_count": 67,
   "id": "03eba575",
   "metadata": {},
   "outputs": [],
   "source": [
    "lst= list()"
   ]
  },
  {
   "cell_type": "code",
   "execution_count": 68,
   "id": "18abc1e1",
   "metadata": {},
   "outputs": [
    {
     "data": {
      "text/plain": [
       "list"
      ]
     },
     "execution_count": 68,
     "metadata": {},
     "output_type": "execute_result"
    }
   ],
   "source": [
    "type(lst)"
   ]
  },
  {
   "cell_type": "code",
   "execution_count": 69,
   "id": "93cf2a56",
   "metadata": {},
   "outputs": [],
   "source": [
    "lst = []"
   ]
  },
  {
   "cell_type": "code",
   "execution_count": 70,
   "id": "6c2ecf48",
   "metadata": {},
   "outputs": [
    {
     "data": {
      "text/plain": [
       "list"
      ]
     },
     "execution_count": 70,
     "metadata": {},
     "output_type": "execute_result"
    }
   ],
   "source": [
    "type(lst)"
   ]
  },
  {
   "cell_type": "code",
   "execution_count": 71,
   "id": "fbb3da8f",
   "metadata": {},
   "outputs": [],
   "source": [
    "lst = [10,5.2,'python',True]"
   ]
  },
  {
   "cell_type": "code",
   "execution_count": 72,
   "id": "9289c442",
   "metadata": {},
   "outputs": [
    {
     "data": {
      "text/plain": [
       "[10, 5.2, 'python', True]"
      ]
     },
     "execution_count": 72,
     "metadata": {},
     "output_type": "execute_result"
    }
   ],
   "source": [
    "lst"
   ]
  },
  {
   "cell_type": "code",
   "execution_count": 73,
   "id": "7e2139c8",
   "metadata": {},
   "outputs": [
    {
     "data": {
      "text/plain": [
       "'python'"
      ]
     },
     "execution_count": 73,
     "metadata": {},
     "output_type": "execute_result"
    }
   ],
   "source": [
    "lst[2]"
   ]
  },
  {
   "cell_type": "code",
   "execution_count": 74,
   "id": "e6f415cf",
   "metadata": {},
   "outputs": [
    {
     "data": {
      "text/plain": [
       "[10, 5.2, 'python', True]"
      ]
     },
     "execution_count": 74,
     "metadata": {},
     "output_type": "execute_result"
    }
   ],
   "source": [
    "lst"
   ]
  },
  {
   "cell_type": "code",
   "execution_count": 76,
   "id": "b6acb4c7",
   "metadata": {},
   "outputs": [
    {
     "data": {
      "text/plain": [
       "[10, 5.2]"
      ]
     },
     "execution_count": 76,
     "metadata": {},
     "output_type": "execute_result"
    }
   ],
   "source": [
    "lst[0:2]"
   ]
  },
  {
   "cell_type": "code",
   "execution_count": 77,
   "id": "71a94144",
   "metadata": {},
   "outputs": [],
   "source": [
    "#append"
   ]
  },
  {
   "cell_type": "code",
   "execution_count": 78,
   "id": "76920e5e",
   "metadata": {},
   "outputs": [],
   "source": [
    "lst.append('machine learning')"
   ]
  },
  {
   "cell_type": "code",
   "execution_count": 79,
   "id": "6ad79f22",
   "metadata": {},
   "outputs": [
    {
     "data": {
      "text/plain": [
       "[10, 5.2, 'python', True, 'machine learning']"
      ]
     },
     "execution_count": 79,
     "metadata": {},
     "output_type": "execute_result"
    }
   ],
   "source": [
    "lst"
   ]
  },
  {
   "cell_type": "code",
   "execution_count": 80,
   "id": "9b816d49",
   "metadata": {},
   "outputs": [],
   "source": [
    "#count"
   ]
  },
  {
   "cell_type": "code",
   "execution_count": 82,
   "id": "6e62f630",
   "metadata": {},
   "outputs": [
    {
     "data": {
      "text/plain": [
       "1"
      ]
     },
     "execution_count": 82,
     "metadata": {},
     "output_type": "execute_result"
    }
   ],
   "source": [
    "lst.count(5.2)"
   ]
  },
  {
   "cell_type": "code",
   "execution_count": 83,
   "id": "a1854fa4",
   "metadata": {},
   "outputs": [],
   "source": [
    "#index"
   ]
  },
  {
   "cell_type": "code",
   "execution_count": 84,
   "id": "457c6289",
   "metadata": {},
   "outputs": [
    {
     "data": {
      "text/plain": [
       "4"
      ]
     },
     "execution_count": 84,
     "metadata": {},
     "output_type": "execute_result"
    }
   ],
   "source": [
    "lst.index('machine learning')"
   ]
  },
  {
   "cell_type": "code",
   "execution_count": 85,
   "id": "088ea1ae",
   "metadata": {},
   "outputs": [],
   "source": [
    "#insert"
   ]
  },
  {
   "cell_type": "code",
   "execution_count": 86,
   "id": "02597019",
   "metadata": {},
   "outputs": [],
   "source": [
    "lst.insert(0,'hello')"
   ]
  },
  {
   "cell_type": "code",
   "execution_count": 87,
   "id": "d75acc37",
   "metadata": {},
   "outputs": [
    {
     "data": {
      "text/plain": [
       "['hello', 10, 5.2, 'python', True, 'machine learning']"
      ]
     },
     "execution_count": 87,
     "metadata": {},
     "output_type": "execute_result"
    }
   ],
   "source": [
    "lst"
   ]
  },
  {
   "cell_type": "code",
   "execution_count": 88,
   "id": "59438fac",
   "metadata": {},
   "outputs": [],
   "source": [
    "lst.insert(3,'dl')"
   ]
  },
  {
   "cell_type": "code",
   "execution_count": 89,
   "id": "6c71b544",
   "metadata": {},
   "outputs": [
    {
     "data": {
      "text/plain": [
       "['hello', 10, 5.2, 'dl', 'python', True, 'machine learning']"
      ]
     },
     "execution_count": 89,
     "metadata": {},
     "output_type": "execute_result"
    }
   ],
   "source": [
    "lst"
   ]
  },
  {
   "cell_type": "code",
   "execution_count": 90,
   "id": "476f7555",
   "metadata": {},
   "outputs": [],
   "source": [
    "#pop"
   ]
  },
  {
   "cell_type": "code",
   "execution_count": 91,
   "id": "410cb696",
   "metadata": {},
   "outputs": [
    {
     "data": {
      "text/plain": [
       "'machine learning'"
      ]
     },
     "execution_count": 91,
     "metadata": {},
     "output_type": "execute_result"
    }
   ],
   "source": [
    "lst.pop()"
   ]
  },
  {
   "cell_type": "code",
   "execution_count": 92,
   "id": "ee9fbce7",
   "metadata": {},
   "outputs": [
    {
     "data": {
      "text/plain": [
       "['hello', 10, 5.2, 'dl', 'python', True]"
      ]
     },
     "execution_count": 92,
     "metadata": {},
     "output_type": "execute_result"
    }
   ],
   "source": [
    "lst"
   ]
  },
  {
   "cell_type": "code",
   "execution_count": null,
   "id": "4190c037",
   "metadata": {},
   "outputs": [],
   "source": []
  },
  {
   "cell_type": "code",
   "execution_count": 93,
   "id": "8c93e138",
   "metadata": {},
   "outputs": [],
   "source": [
    "#reverse"
   ]
  },
  {
   "cell_type": "code",
   "execution_count": 94,
   "id": "15c330b2",
   "metadata": {},
   "outputs": [],
   "source": [
    "lst.reverse()"
   ]
  },
  {
   "cell_type": "code",
   "execution_count": 95,
   "id": "9d60c11f",
   "metadata": {},
   "outputs": [
    {
     "data": {
      "text/plain": [
       "[True, 'python', 'dl', 5.2, 10, 'hello']"
      ]
     },
     "execution_count": 95,
     "metadata": {},
     "output_type": "execute_result"
    }
   ],
   "source": [
    "lst"
   ]
  },
  {
   "cell_type": "code",
   "execution_count": 96,
   "id": "2b3b374a",
   "metadata": {},
   "outputs": [],
   "source": [
    "#remove"
   ]
  },
  {
   "cell_type": "code",
   "execution_count": 97,
   "id": "73db44d7",
   "metadata": {},
   "outputs": [],
   "source": [
    "lst.remove('python')"
   ]
  },
  {
   "cell_type": "code",
   "execution_count": 98,
   "id": "8c0682e7",
   "metadata": {},
   "outputs": [
    {
     "data": {
      "text/plain": [
       "[True, 'dl', 5.2, 10, 'hello']"
      ]
     },
     "execution_count": 98,
     "metadata": {},
     "output_type": "execute_result"
    }
   ],
   "source": [
    "lst"
   ]
  },
  {
   "cell_type": "code",
   "execution_count": 99,
   "id": "da978931",
   "metadata": {},
   "outputs": [],
   "source": [
    "#replacing elements in lists"
   ]
  },
  {
   "cell_type": "code",
   "execution_count": 101,
   "id": "7dba4a74",
   "metadata": {},
   "outputs": [],
   "source": [
    "lst.append('python')"
   ]
  },
  {
   "cell_type": "code",
   "execution_count": 102,
   "id": "cb99b80f",
   "metadata": {},
   "outputs": [
    {
     "data": {
      "text/plain": [
       "[True, 'dl', 5.2, 10, 'hello', 'python', 'python']"
      ]
     },
     "execution_count": 102,
     "metadata": {},
     "output_type": "execute_result"
    }
   ],
   "source": [
    "lst"
   ]
  },
  {
   "cell_type": "code",
   "execution_count": 103,
   "id": "e55644a4",
   "metadata": {},
   "outputs": [
    {
     "data": {
      "text/plain": [
       "[True, 'dl', 5.2, 'machine learning', 'hello', 'python', 'python']"
      ]
     },
     "execution_count": 103,
     "metadata": {},
     "output_type": "execute_result"
    }
   ],
   "source": [
    "lst[3] = 'machine learning'\n",
    "lst"
   ]
  },
  {
   "cell_type": "code",
   "execution_count": 104,
   "id": "2a6139f9",
   "metadata": {},
   "outputs": [],
   "source": [
    "#Tuple"
   ]
  },
  {
   "cell_type": "code",
   "execution_count": 112,
   "id": "ddd4e191",
   "metadata": {},
   "outputs": [
    {
     "data": {
      "text/plain": [
       "tuple"
      ]
     },
     "execution_count": 112,
     "metadata": {},
     "output_type": "execute_result"
    }
   ],
   "source": [
    "t =tuple()\n",
    "type(t)"
   ]
  },
  {
   "cell_type": "code",
   "execution_count": 113,
   "id": "5f097e99",
   "metadata": {},
   "outputs": [],
   "source": [
    "t = (10,5.3,'python',False)"
   ]
  },
  {
   "cell_type": "code",
   "execution_count": 114,
   "id": "eb5bea3f",
   "metadata": {},
   "outputs": [
    {
     "data": {
      "text/plain": [
       "(10, 5.3, 'python', False)"
      ]
     },
     "execution_count": 114,
     "metadata": {},
     "output_type": "execute_result"
    }
   ],
   "source": [
    "t"
   ]
  },
  {
   "cell_type": "code",
   "execution_count": 115,
   "id": "97831c95",
   "metadata": {},
   "outputs": [
    {
     "data": {
      "text/plain": [
       "1"
      ]
     },
     "execution_count": 115,
     "metadata": {},
     "output_type": "execute_result"
    }
   ],
   "source": [
    "t.count(10)"
   ]
  },
  {
   "cell_type": "code",
   "execution_count": 116,
   "id": "3cde532f",
   "metadata": {},
   "outputs": [
    {
     "data": {
      "text/plain": [
       "5.3"
      ]
     },
     "execution_count": 116,
     "metadata": {},
     "output_type": "execute_result"
    }
   ],
   "source": [
    "t[1]"
   ]
  },
  {
   "cell_type": "code",
   "execution_count": 110,
   "id": "8aa0d607",
   "metadata": {},
   "outputs": [],
   "source": [
    "#replacing elements"
   ]
  },
  {
   "cell_type": "code",
   "execution_count": 117,
   "id": "26fa11dd",
   "metadata": {},
   "outputs": [
    {
     "ename": "TypeError",
     "evalue": "'tuple' object does not support item assignment",
     "output_type": "error",
     "traceback": [
      "\u001b[1;31m---------------------------------------------------------------------------\u001b[0m",
      "\u001b[1;31mTypeError\u001b[0m                                 Traceback (most recent call last)",
      "\u001b[1;32m~\\AppData\\Local\\Temp\\ipykernel_17544\\67218029.py\u001b[0m in \u001b[0;36m<module>\u001b[1;34m\u001b[0m\n\u001b[1;32m----> 1\u001b[1;33m \u001b[0mt\u001b[0m\u001b[1;33m[\u001b[0m\u001b[1;36m1\u001b[0m\u001b[1;33m]\u001b[0m \u001b[1;33m=\u001b[0m \u001b[1;36m500\u001b[0m\u001b[1;33m\u001b[0m\u001b[1;33m\u001b[0m\u001b[0m\n\u001b[0m",
      "\u001b[1;31mTypeError\u001b[0m: 'tuple' object does not support item assignment"
     ]
    }
   ],
   "source": [
    "t[1] = 500"
   ]
  },
  {
   "cell_type": "code",
   "execution_count": 118,
   "id": "2bb8a8e6",
   "metadata": {},
   "outputs": [
    {
     "data": {
      "text/plain": [
       "tuple"
      ]
     },
     "execution_count": 118,
     "metadata": {},
     "output_type": "execute_result"
    }
   ],
   "source": [
    "type(t)"
   ]
  },
  {
   "cell_type": "code",
   "execution_count": 119,
   "id": "6ae0c956",
   "metadata": {},
   "outputs": [],
   "source": [
    "lst = list(t)"
   ]
  },
  {
   "cell_type": "code",
   "execution_count": 120,
   "id": "9ff6d65d",
   "metadata": {},
   "outputs": [
    {
     "data": {
      "text/plain": [
       "list"
      ]
     },
     "execution_count": 120,
     "metadata": {},
     "output_type": "execute_result"
    }
   ],
   "source": [
    "type(lst)"
   ]
  },
  {
   "cell_type": "code",
   "execution_count": 121,
   "id": "b28fcabc",
   "metadata": {},
   "outputs": [
    {
     "data": {
      "text/plain": [
       "[10, 5.3, 'python', False]"
      ]
     },
     "execution_count": 121,
     "metadata": {},
     "output_type": "execute_result"
    }
   ],
   "source": [
    "lst"
   ]
  },
  {
   "cell_type": "code",
   "execution_count": 122,
   "id": "921af12b",
   "metadata": {},
   "outputs": [
    {
     "data": {
      "text/plain": [
       "[10, 500, 'python', False]"
      ]
     },
     "execution_count": 122,
     "metadata": {},
     "output_type": "execute_result"
    }
   ],
   "source": [
    "lst[1] = 500\n",
    "lst"
   ]
  },
  {
   "cell_type": "code",
   "execution_count": 123,
   "id": "781db37b",
   "metadata": {},
   "outputs": [],
   "source": [
    "lst.append(1000)"
   ]
  },
  {
   "cell_type": "code",
   "execution_count": 124,
   "id": "13f89db0",
   "metadata": {},
   "outputs": [
    {
     "data": {
      "text/plain": [
       "[10, 500, 'python', False, 1000]"
      ]
     },
     "execution_count": 124,
     "metadata": {},
     "output_type": "execute_result"
    }
   ],
   "source": [
    "lst"
   ]
  },
  {
   "cell_type": "code",
   "execution_count": 125,
   "id": "b4ba9403",
   "metadata": {},
   "outputs": [
    {
     "data": {
      "text/plain": [
       "(10, 500, 'python', False, 1000)"
      ]
     },
     "execution_count": 125,
     "metadata": {},
     "output_type": "execute_result"
    }
   ],
   "source": [
    "t = tuple(lst)\n",
    "t"
   ]
  },
  {
   "cell_type": "code",
   "execution_count": 126,
   "id": "46fc0869",
   "metadata": {},
   "outputs": [
    {
     "data": {
      "text/plain": [
       "tuple"
      ]
     },
     "execution_count": 126,
     "metadata": {},
     "output_type": "execute_result"
    }
   ],
   "source": [
    "type(t)"
   ]
  },
  {
   "cell_type": "markdown",
   "id": "dd1a3f2f",
   "metadata": {},
   "source": [
    "# Dictionary"
   ]
  },
  {
   "cell_type": "code",
   "execution_count": 127,
   "id": "804e3b29",
   "metadata": {},
   "outputs": [
    {
     "data": {
      "text/plain": [
       "dict"
      ]
     },
     "execution_count": 127,
     "metadata": {},
     "output_type": "execute_result"
    }
   ],
   "source": [
    "d = dict()\n",
    "type(d)"
   ]
  },
  {
   "cell_type": "code",
   "execution_count": 128,
   "id": "a6f213e2",
   "metadata": {},
   "outputs": [],
   "source": [
    "d = {10:'Python',20:'Machine Learning'}"
   ]
  },
  {
   "cell_type": "code",
   "execution_count": 129,
   "id": "6f7b7625",
   "metadata": {},
   "outputs": [
    {
     "data": {
      "text/plain": [
       "{10: 'Python', 20: 'Machine Learning'}"
      ]
     },
     "execution_count": 129,
     "metadata": {},
     "output_type": "execute_result"
    }
   ],
   "source": [
    "d"
   ]
  },
  {
   "cell_type": "code",
   "execution_count": 130,
   "id": "d352fcef",
   "metadata": {},
   "outputs": [
    {
     "data": {
      "text/plain": [
       "'Machine Learning'"
      ]
     },
     "execution_count": 130,
     "metadata": {},
     "output_type": "execute_result"
    }
   ],
   "source": [
    "d.get(20)"
   ]
  },
  {
   "cell_type": "code",
   "execution_count": 131,
   "id": "185891b1",
   "metadata": {},
   "outputs": [
    {
     "data": {
      "text/plain": [
       "dict_items([(10, 'Python'), (20, 'Machine Learning')])"
      ]
     },
     "execution_count": 131,
     "metadata": {},
     "output_type": "execute_result"
    }
   ],
   "source": [
    "d.items()"
   ]
  },
  {
   "cell_type": "code",
   "execution_count": 132,
   "id": "4ba28aa7",
   "metadata": {},
   "outputs": [],
   "source": [
    "#keys"
   ]
  },
  {
   "cell_type": "code",
   "execution_count": 133,
   "id": "818d31d4",
   "metadata": {},
   "outputs": [
    {
     "data": {
      "text/plain": [
       "dict_keys([10, 20])"
      ]
     },
     "execution_count": 133,
     "metadata": {},
     "output_type": "execute_result"
    }
   ],
   "source": [
    "d.keys()"
   ]
  },
  {
   "cell_type": "code",
   "execution_count": 134,
   "id": "03c56de0",
   "metadata": {},
   "outputs": [],
   "source": [
    "d.update({30:'dl',40:'time',50:'ml'})"
   ]
  },
  {
   "cell_type": "code",
   "execution_count": 135,
   "id": "b7e1d4d0",
   "metadata": {},
   "outputs": [
    {
     "data": {
      "text/plain": [
       "{10: 'Python', 20: 'Machine Learning', 30: 'dl', 40: 'time', 50: 'ml'}"
      ]
     },
     "execution_count": 135,
     "metadata": {},
     "output_type": "execute_result"
    }
   ],
   "source": [
    "d"
   ]
  },
  {
   "cell_type": "code",
   "execution_count": 136,
   "id": "06cb0fd0",
   "metadata": {},
   "outputs": [],
   "source": [
    "#pop"
   ]
  },
  {
   "cell_type": "code",
   "execution_count": 137,
   "id": "f1e1268a",
   "metadata": {},
   "outputs": [
    {
     "data": {
      "text/plain": [
       "'time'"
      ]
     },
     "execution_count": 137,
     "metadata": {},
     "output_type": "execute_result"
    }
   ],
   "source": [
    "d.pop(40)"
   ]
  },
  {
   "cell_type": "code",
   "execution_count": 138,
   "id": "420b95c6",
   "metadata": {},
   "outputs": [
    {
     "data": {
      "text/plain": [
       "{10: 'Python', 20: 'Machine Learning', 30: 'dl', 50: 'ml'}"
      ]
     },
     "execution_count": 138,
     "metadata": {},
     "output_type": "execute_result"
    }
   ],
   "source": [
    "d"
   ]
  },
  {
   "cell_type": "code",
   "execution_count": 139,
   "id": "91f92b2d",
   "metadata": {},
   "outputs": [],
   "source": [
    "#values"
   ]
  },
  {
   "cell_type": "code",
   "execution_count": 140,
   "id": "07a00186",
   "metadata": {},
   "outputs": [
    {
     "data": {
      "text/plain": [
       "<function dict.values>"
      ]
     },
     "execution_count": 140,
     "metadata": {},
     "output_type": "execute_result"
    }
   ],
   "source": [
    "d.values"
   ]
  },
  {
   "cell_type": "markdown",
   "id": "3fc35ccc",
   "metadata": {},
   "source": [
    "# Sets"
   ]
  },
  {
   "cell_type": "code",
   "execution_count": 141,
   "id": "899b0919",
   "metadata": {},
   "outputs": [
    {
     "data": {
      "text/plain": [
       "set"
      ]
     },
     "execution_count": 141,
     "metadata": {},
     "output_type": "execute_result"
    }
   ],
   "source": [
    "s = {1,2,3,4,5,6}\n",
    "type(s)"
   ]
  },
  {
   "cell_type": "code",
   "execution_count": 142,
   "id": "0b28c5af",
   "metadata": {},
   "outputs": [],
   "source": [
    "s = {10,10,20,32,52,10}"
   ]
  },
  {
   "cell_type": "code",
   "execution_count": 143,
   "id": "a85765ca",
   "metadata": {},
   "outputs": [
    {
     "data": {
      "text/plain": [
       "{10, 20, 32, 52}"
      ]
     },
     "execution_count": 143,
     "metadata": {},
     "output_type": "execute_result"
    }
   ],
   "source": [
    "s"
   ]
  },
  {
   "cell_type": "code",
   "execution_count": 144,
   "id": "55bf634b",
   "metadata": {},
   "outputs": [],
   "source": [
    "s.add(500)"
   ]
  },
  {
   "cell_type": "code",
   "execution_count": 145,
   "id": "67ed3ae0",
   "metadata": {},
   "outputs": [
    {
     "data": {
      "text/plain": [
       "32"
      ]
     },
     "execution_count": 145,
     "metadata": {},
     "output_type": "execute_result"
    }
   ],
   "source": [
    "s.pop()"
   ]
  },
  {
   "cell_type": "code",
   "execution_count": 146,
   "id": "6958ec91",
   "metadata": {},
   "outputs": [
    {
     "data": {
      "text/plain": [
       "{10, 20, 52, 500}"
      ]
     },
     "execution_count": 146,
     "metadata": {},
     "output_type": "execute_result"
    }
   ],
   "source": [
    "s"
   ]
  },
  {
   "cell_type": "code",
   "execution_count": null,
   "id": "80de1b46",
   "metadata": {},
   "outputs": [],
   "source": []
  }
 ],
 "metadata": {
  "kernelspec": {
   "display_name": "Python 3 (ipykernel)",
   "language": "python",
   "name": "python3"
  },
  "language_info": {
   "codemirror_mode": {
    "name": "ipython",
    "version": 3
   },
   "file_extension": ".py",
   "mimetype": "text/x-python",
   "name": "python",
   "nbconvert_exporter": "python",
   "pygments_lexer": "ipython3",
   "version": "3.9.13"
  }
 },
 "nbformat": 4,
 "nbformat_minor": 5
}
